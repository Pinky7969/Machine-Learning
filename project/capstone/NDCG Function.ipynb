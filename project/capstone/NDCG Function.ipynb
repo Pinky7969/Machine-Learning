{
 "cells": [
  {
   "cell_type": "code",
   "execution_count": 4,
   "metadata": {},
   "outputs": [
    {
     "name": "stdout",
     "output_type": "stream",
     "text": [
      "predictions: \n",
      "    0   1\n",
      "0  US  FR\n",
      "1  FR  US\n",
      "2  FR  FR\n",
      "\n",
      "\n",
      "truth: \n",
      "0    US\n",
      "1    US\n",
      "2    FR\n",
      "dtype: object\n",
      "\n",
      "\n",
      "scores:\n",
      "0    1.00000\n",
      "1    0.63093\n",
      "2    1.00000\n",
      "Name: score, dtype: float64\n"
     ]
    },
    {
     "name": "stderr",
     "output_type": "stream",
     "text": [
      "/anaconda2/lib/python2.7/site-packages/ipykernel_launcher.py:42: FutureWarning: The reduce argument is deprecated and will be removed in a future version. You can specify result_type='reduce' to try to reduce the result to the original dimensions\n"
     ]
    }
   ],
   "source": [
    "# https://www.kaggle.com/dietcoke/score-predictions-using-ndcg\n",
    "# Building on Wendy Kan's ndgc_at_k example\n",
    "# https://www.kaggle.com/wendykan/airbnb-recruiting-new-user-bookings/ndcg-example\n",
    "#\n",
    "# you can use this script for cross-validation\n",
    "\n",
    "import numpy as np\n",
    "import pandas as pd\n",
    "\n",
    "def dcg_at_k(r, k, method=1):\n",
    "    r = np.asfarray(r)[:k]\n",
    "    if r.size:\n",
    "        if method == 0:\n",
    "            return r[0] + np.sum(r[1:] / np.log2(np.arange(2, r.size + 1)))\n",
    "        elif method == 1:\n",
    "            return np.sum(r / np.log2(np.arange(2, r.size + 2)))\n",
    "        else:\n",
    "            raise ValueError('method must be 0 or 1.')\n",
    "    return 0.\n",
    "\n",
    "\n",
    "def ndcg_at_k(r, k=5, method=1):\n",
    "    dcg_max = dcg_at_k(sorted(r, reverse=True), k, method)\n",
    "    if not dcg_max:\n",
    "        return 0.\n",
    "    return dcg_at_k(r, k, method) / dcg_max\n",
    "\n",
    "\n",
    "def score_predictions(preds, truth, n_modes=5):\n",
    "    \"\"\"\n",
    "    preds: pd.DataFrame\n",
    "      one row for each observation, one column for each prediction.\n",
    "      Columns are sorted from left to right descending in order of likelihood.\n",
    "    truth: pd.Series\n",
    "      one row for each obeservation.\n",
    "    \"\"\"\n",
    "    assert(len(preds)==len(truth))\n",
    "    r = pd.DataFrame(0, index=preds.index, columns=preds.columns, dtype=np.float64)\n",
    "    for col in preds.columns:\n",
    "        r[col] = (preds[col] == truth) * 1.0\n",
    "\n",
    "    score = pd.Series(r.apply(ndcg_at_k, axis=1, reduce=True), name='score')\n",
    "    return score\n",
    "    \n",
    "    \n",
    "    \n",
    "preds = pd.DataFrame([['US','FR'],['FR','US'],['FR','FR']])\n",
    "truth = pd.Series(['US','US','FR'])\n",
    "print \"predictions: \"\n",
    "print preds\n",
    "print \"\"\n",
    "print \"\"\n",
    "print \"truth: \"\n",
    "print truth\n",
    "print \"\"\n",
    "print \"\"\n",
    "print \"scores:\"\n",
    "print score_predictions(preds, truth)"
   ]
  },
  {
   "cell_type": "markdown",
   "metadata": {},
   "source": [
    "### Modified NDCG"
   ]
  },
  {
   "cell_type": "code",
   "execution_count": 51,
   "metadata": {},
   "outputs": [
    {
     "name": "stdout",
     "output_type": "stream",
     "text": [
      "predictions: \n",
      "    0   1   2   3\n",
      "0  US  FR  AR  AA\n",
      "1  FR  US  AR  AA\n",
      "2  FR  FR  AR  BB\n",
      "\n",
      "\n",
      "truth: \n",
      "0    US\n",
      "1    US\n",
      "2    FR\n",
      "dtype: object\n",
      "\n",
      "\n",
      "scores:\n",
      "\n",
      "[S]\n",
      "   0  1  2  3  4\n",
      "0  0  2  3  1  3\n",
      "\n",
      "[E]\n",
      "\n",
      "[ 1S]\n",
      "[3, 3, 2, 1, 0]\n",
      "\n",
      "[ 1E]\n",
      "dcg_max: 6.323465818787765\n",
      "\n",
      "[ 1S]\n",
      "0    0\n",
      "1    2\n",
      "2    3\n",
      "3    1\n",
      "4    3\n",
      "Name: 0, dtype: int64\n",
      "\n",
      "[ 1E]\n",
      "dcg_at_k: 4.353094486919932\n",
      "\n",
      "[ 1S]\n",
      "0    0\n",
      "1    2\n",
      "2    3\n",
      "3    1\n",
      "4    3\n",
      "Name: 0, dtype: int64\n",
      "\n",
      "[ 1E]\n",
      "0    0.688403\n",
      "Name: score, dtype: float64\n"
     ]
    },
    {
     "name": "stderr",
     "output_type": "stream",
     "text": [
      "/anaconda2/lib/python2.7/site-packages/ipykernel_launcher.py:56: FutureWarning: The reduce argument is deprecated and will be removed in a future version. You can specify result_type='reduce' to try to reduce the result to the original dimensions\n"
     ]
    }
   ],
   "source": [
    "# https://www.kaggle.com/dietcoke/score-predictions-using-ndcg\n",
    "# Building on Wendy Kan's ndgc_at_k example\n",
    "# https://www.kaggle.com/wendykan/airbnb-recruiting-new-user-bookings/ndcg-example\n",
    "#\n",
    "# you can use this script for cross-validation\n",
    "\n",
    "import numpy as np\n",
    "import pandas as pd\n",
    "\n",
    "def dcg_at_k(r, k, method=1):\n",
    "    print \"\\n[ 1S]\"\n",
    "    print r\n",
    "    print \"\\n[ 1E]\"\n",
    "    r = np.asfarray(r)[:k]\n",
    "    if r.size:\n",
    "        if method == 0:\n",
    "            return r[0] + np.sum(r[1:] / np.log2(np.arange(2, r.size + 2)))\n",
    "        elif method == 1:\n",
    "            return np.sum(r / np.log2(np.arange(2, r.size + 2)))\n",
    "        else:\n",
    "            raise ValueError('method must be 0 or 1.')\n",
    "    return 0.\n",
    "\n",
    "\n",
    "def ndcg_at_k(r, k=5, method=1):\n",
    "    dcg_max = dcg_at_k(sorted(r, reverse=True), k, method)\n",
    "    print \"dcg_max: \" + str(dcg_max)\n",
    "    print \"dcg_at_k: \" + str(dcg_at_k(r, k, method) )\n",
    "    if not dcg_max:\n",
    "        return 0.\n",
    "    return dcg_at_k(r, k, method) / dcg_max\n",
    "\n",
    "\n",
    "def score_predictions(preds, truth, n_modes=5):\n",
    "    \"\"\"\n",
    "    preds: pd.DataFrame\n",
    "      one row for each observation, one column for each prediction.\n",
    "      Columns are sorted from left to right descending in order of likelihood.\n",
    "    truth: pd.Series\n",
    "      one row for each obeservation.\n",
    "    \"\"\"\n",
    "    assert(len(preds)==len(truth))\n",
    "    r = pd.DataFrame(0, index=preds.index, columns=preds.columns, dtype=np.float64)\n",
    "    \n",
    "    for col in preds.columns:\n",
    "        r[col] = (preds[col] == truth) * 1.0\n",
    "\n",
    "    \n",
    "    #r2 = {0: [1, 2], 'col2': [3, 4]}\n",
    "   #df = pd.DataFrame(data=d)\n",
    "\n",
    "    r2 = pd.DataFrame({0:[0],1:[2],2:[3],3:[1],4:[3]})\n",
    "    print \"\\n[S]\"\n",
    "    print r2\n",
    "    print \"\\n[E]\"\n",
    "    score = pd.Series(r2.apply(ndcg_at_k, axis=1, reduce=True), name='score')\n",
    "    return score\n",
    "    \n",
    "\n",
    "    \n",
    "preds = pd.DataFrame([['US','FR','AR','AA'],['FR','US','AR','AA'],['FR','FR','AR','BB']])\n",
    "truth = pd.Series(['US','US','FR'])\n",
    "print \"predictions: \"\n",
    "print preds\n",
    "\n",
    "print \"\\n\\ntruth: \"\n",
    "print truth\n",
    "\n",
    "print \"\\n\\nscores:\"\n",
    "print score_predictions(preds, truth)"
   ]
  },
  {
   "cell_type": "code",
   "execution_count": 69,
   "metadata": {},
   "outputs": [
    {
     "name": "stdout",
     "output_type": "stream",
     "text": [
      "    0   1   2   3\n",
      "0  US  FR  AR  AA\n",
      "1  FR  US  AR  AA\n",
      "2  FR  FR  AR  BB\n",
      "0\n",
      "1\n",
      "2\n",
      "0\n",
      "1\n",
      "2\n",
      "0\n",
      "1\n",
      "2\n",
      "0\n",
      "1\n",
      "2\n"
     ]
    }
   ],
   "source": [
    "print preds\n",
    "r = pd.DataFrame(0, index=preds.index, columns=preds.columns, dtype=np.float64)\n",
    "for col in preds.columns:\n",
    "    for row in np.arange(preds[col].shape[0]):\n",
    "        \n",
    "        print row\n",
    "    #for raw in preds.row:\n",
    "        #print raw\n",
    "    #r(col,1)=preds\n",
    "\n",
    "#print r"
   ]
  },
  {
   "cell_type": "code",
   "execution_count": 56,
   "metadata": {},
   "outputs": [
    {
     "name": "stdout",
     "output_type": "stream",
     "text": [
      "(3, 4)\n"
     ]
    }
   ],
   "source": [
    "print r.shape"
   ]
  },
  {
   "cell_type": "code",
   "execution_count": 49,
   "metadata": {},
   "outputs": [
    {
     "data": {
      "text/plain": [
       "0.6884032604377134"
      ]
     },
     "execution_count": 49,
     "metadata": {},
     "output_type": "execute_result"
    }
   ],
   "source": [
    "4.353094486919932/6.323465818787765"
   ]
  },
  {
   "cell_type": "code",
   "execution_count": null,
   "metadata": {},
   "outputs": [],
   "source": []
  }
 ],
 "metadata": {
  "kernelspec": {
   "display_name": "Python 2",
   "language": "python",
   "name": "python2"
  },
  "language_info": {
   "codemirror_mode": {
    "name": "ipython",
    "version": 2
   },
   "file_extension": ".py",
   "mimetype": "text/x-python",
   "name": "python",
   "nbconvert_exporter": "python",
   "pygments_lexer": "ipython2",
   "version": "2.7.15"
  }
 },
 "nbformat": 4,
 "nbformat_minor": 2
}
